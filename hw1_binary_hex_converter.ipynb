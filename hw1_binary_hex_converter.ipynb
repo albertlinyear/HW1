{
  "nbformat": 4,
  "nbformat_minor": 0,
  "metadata": {
    "colab": {
      "provenance": []
    },
    "kernelspec": {
      "name": "python3",
      "display_name": "Python 3"
    },
    "language_info": {
      "name": "python"
    }
  },
  "cells": [
    {
      "cell_type": "code",
      "execution_count": null,
      "metadata": {
        "colab": {
          "base_uri": "https://localhost:8080/"
        },
        "id": "JdbGVzUJew52",
        "outputId": "fb11d0b2-4ddd-4c35-dc1b-c1956d00a23f"
      },
      "outputs": [
        {
          "output_type": "stream",
          "name": "stdout",
          "text": [
            "請輸入一個十進位數字 (0-255): 255\n",
            "二進位表示: 11111111\n",
            "16進位表示: FF\n"
          ]
        }
      ],
      "source": [
        "try:\n",
        "    decimal_number = int(input(\"請輸入一個十進位數字 (0-255): \"))\n",
        "\n",
        "    if decimal_number < 0 or decimal_number > 255:\n",
        "        print(\"請輸入範圍內的數字 (0-255)！\")\n",
        "    else:\n",
        "        # 手動轉換為二進位\n",
        "        binary_number = \"\"\n",
        "        num = decimal_number\n",
        "        if num == 0:\n",
        "            binary_number = \"0\"\n",
        "        while num > 0:\n",
        "            binary_number = str(num % 2) + binary_number\n",
        "            num //= 2\n",
        "\n",
        "        # 手動轉換為16進位\n",
        "        hex_digits = \"0123456789ABCDEF\"\n",
        "        hex_number = \"\"\n",
        "        num = decimal_number\n",
        "        if num == 0:\n",
        "            hex_number = \"0\"\n",
        "        while num > 0:\n",
        "            hex_number = hex_digits[num % 16] + hex_number\n",
        "            num //= 16\n",
        "\n",
        "        print(f\"二進位表示: {binary_number}\")\n",
        "        print(f\"16進位表示: {hex_number}\")\n",
        "except ValueError:\n",
        "    print(\"請輸入有效的整數！\")"
      ]
    }
  ]
}